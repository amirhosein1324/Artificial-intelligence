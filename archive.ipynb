{
  "nbformat": 4,
  "nbformat_minor": 0,
  "metadata": {
    "colab": {
      "provenance": []
    },
    "kernelspec": {
      "name": "python3",
      "display_name": "Python 3"
    },
    "language_info": {
      "name": "python"
    }
  },
  "cells": [
    {
      "cell_type": "code",
      "execution_count": null,
      "metadata": {
        "id": "UXSB2InVfw6h"
      },
      "outputs": [],
      "source": [
        "import tensorflow as tf\n",
        "from tensorflow.keras.preprocessing.sequence import pad_sequences\n",
        "from tensorflow.keras.layers import Embedding, LSTM, Dense, Bidirectional\n",
        "from tensorflow.keras.preprocessing.text import Tokenizer\n",
        "from tensorflow.keras.models import Sequential\n",
        "from tensorflow.keras.optimizers import Adam\n",
        "import pandas as pd\n",
        "import numpy as np"
      ]
    },
    {
      "cell_type": "code",
      "source": [
        "df = pd.read_csv(\"/content/spam.csv\" , encoding = \"utf-8\" ,\n",
        "                encoding_errors = \"ignore\" )"
      ],
      "metadata": {
        "id": "BfFfmr0yg2bD"
      },
      "execution_count": null,
      "outputs": []
    },
    {
      "cell_type": "code",
      "source": [
        "df.head()"
      ],
      "metadata": {
        "colab": {
          "base_uri": "https://localhost:8080/",
          "height": 206
        },
        "id": "hxaoZp9ykPAr",
        "outputId": "a2272334-9b07-4837-91bb-da80bd4228d1"
      },
      "execution_count": null,
      "outputs": [
        {
          "output_type": "execute_result",
          "data": {
            "text/plain": [
              "     v1                                                 v2 Unnamed: 2  \\\n",
              "0   ham  Go until jurong point, crazy.. Available only ...        NaN   \n",
              "1   ham                      Ok lar... Joking wif u oni...        NaN   \n",
              "2  spam  Free entry in 2 a wkly comp to win FA Cup fina...        NaN   \n",
              "3   ham  U dun say so early hor... U c already then say...        NaN   \n",
              "4   ham  Nah I don't think he goes to usf, he lives aro...        NaN   \n",
              "\n",
              "  Unnamed: 3 Unnamed: 4  \n",
              "0        NaN        NaN  \n",
              "1        NaN        NaN  \n",
              "2        NaN        NaN  \n",
              "3        NaN        NaN  \n",
              "4        NaN        NaN  "
            ],
            "text/html": [
              "\n",
              "  <div id=\"df-5312c6f0-1569-4fc5-9d56-15aa444d0fee\">\n",
              "    <div class=\"colab-df-container\">\n",
              "      <div>\n",
              "<style scoped>\n",
              "    .dataframe tbody tr th:only-of-type {\n",
              "        vertical-align: middle;\n",
              "    }\n",
              "\n",
              "    .dataframe tbody tr th {\n",
              "        vertical-align: top;\n",
              "    }\n",
              "\n",
              "    .dataframe thead th {\n",
              "        text-align: right;\n",
              "    }\n",
              "</style>\n",
              "<table border=\"1\" class=\"dataframe\">\n",
              "  <thead>\n",
              "    <tr style=\"text-align: right;\">\n",
              "      <th></th>\n",
              "      <th>v1</th>\n",
              "      <th>v2</th>\n",
              "      <th>Unnamed: 2</th>\n",
              "      <th>Unnamed: 3</th>\n",
              "      <th>Unnamed: 4</th>\n",
              "    </tr>\n",
              "  </thead>\n",
              "  <tbody>\n",
              "    <tr>\n",
              "      <th>0</th>\n",
              "      <td>ham</td>\n",
              "      <td>Go until jurong point, crazy.. Available only ...</td>\n",
              "      <td>NaN</td>\n",
              "      <td>NaN</td>\n",
              "      <td>NaN</td>\n",
              "    </tr>\n",
              "    <tr>\n",
              "      <th>1</th>\n",
              "      <td>ham</td>\n",
              "      <td>Ok lar... Joking wif u oni...</td>\n",
              "      <td>NaN</td>\n",
              "      <td>NaN</td>\n",
              "      <td>NaN</td>\n",
              "    </tr>\n",
              "    <tr>\n",
              "      <th>2</th>\n",
              "      <td>spam</td>\n",
              "      <td>Free entry in 2 a wkly comp to win FA Cup fina...</td>\n",
              "      <td>NaN</td>\n",
              "      <td>NaN</td>\n",
              "      <td>NaN</td>\n",
              "    </tr>\n",
              "    <tr>\n",
              "      <th>3</th>\n",
              "      <td>ham</td>\n",
              "      <td>U dun say so early hor... U c already then say...</td>\n",
              "      <td>NaN</td>\n",
              "      <td>NaN</td>\n",
              "      <td>NaN</td>\n",
              "    </tr>\n",
              "    <tr>\n",
              "      <th>4</th>\n",
              "      <td>ham</td>\n",
              "      <td>Nah I don't think he goes to usf, he lives aro...</td>\n",
              "      <td>NaN</td>\n",
              "      <td>NaN</td>\n",
              "      <td>NaN</td>\n",
              "    </tr>\n",
              "  </tbody>\n",
              "</table>\n",
              "</div>\n",
              "      <button class=\"colab-df-convert\" onclick=\"convertToInteractive('df-5312c6f0-1569-4fc5-9d56-15aa444d0fee')\"\n",
              "              title=\"Convert this dataframe to an interactive table.\"\n",
              "              style=\"display:none;\">\n",
              "        \n",
              "  <svg xmlns=\"http://www.w3.org/2000/svg\" height=\"24px\"viewBox=\"0 0 24 24\"\n",
              "       width=\"24px\">\n",
              "    <path d=\"M0 0h24v24H0V0z\" fill=\"none\"/>\n",
              "    <path d=\"M18.56 5.44l.94 2.06.94-2.06 2.06-.94-2.06-.94-.94-2.06-.94 2.06-2.06.94zm-11 1L8.5 8.5l.94-2.06 2.06-.94-2.06-.94L8.5 2.5l-.94 2.06-2.06.94zm10 10l.94 2.06.94-2.06 2.06-.94-2.06-.94-.94-2.06-.94 2.06-2.06.94z\"/><path d=\"M17.41 7.96l-1.37-1.37c-.4-.4-.92-.59-1.43-.59-.52 0-1.04.2-1.43.59L10.3 9.45l-7.72 7.72c-.78.78-.78 2.05 0 2.83L4 21.41c.39.39.9.59 1.41.59.51 0 1.02-.2 1.41-.59l7.78-7.78 2.81-2.81c.8-.78.8-2.07 0-2.86zM5.41 20L4 18.59l7.72-7.72 1.47 1.35L5.41 20z\"/>\n",
              "  </svg>\n",
              "      </button>\n",
              "      \n",
              "  <style>\n",
              "    .colab-df-container {\n",
              "      display:flex;\n",
              "      flex-wrap:wrap;\n",
              "      gap: 12px;\n",
              "    }\n",
              "\n",
              "    .colab-df-convert {\n",
              "      background-color: #E8F0FE;\n",
              "      border: none;\n",
              "      border-radius: 50%;\n",
              "      cursor: pointer;\n",
              "      display: none;\n",
              "      fill: #1967D2;\n",
              "      height: 32px;\n",
              "      padding: 0 0 0 0;\n",
              "      width: 32px;\n",
              "    }\n",
              "\n",
              "    .colab-df-convert:hover {\n",
              "      background-color: #E2EBFA;\n",
              "      box-shadow: 0px 1px 2px rgba(60, 64, 67, 0.3), 0px 1px 3px 1px rgba(60, 64, 67, 0.15);\n",
              "      fill: #174EA6;\n",
              "    }\n",
              "\n",
              "    [theme=dark] .colab-df-convert {\n",
              "      background-color: #3B4455;\n",
              "      fill: #D2E3FC;\n",
              "    }\n",
              "\n",
              "    [theme=dark] .colab-df-convert:hover {\n",
              "      background-color: #434B5C;\n",
              "      box-shadow: 0px 1px 3px 1px rgba(0, 0, 0, 0.15);\n",
              "      filter: drop-shadow(0px 1px 2px rgba(0, 0, 0, 0.3));\n",
              "      fill: #FFFFFF;\n",
              "    }\n",
              "  </style>\n",
              "\n",
              "      <script>\n",
              "        const buttonEl =\n",
              "          document.querySelector('#df-5312c6f0-1569-4fc5-9d56-15aa444d0fee button.colab-df-convert');\n",
              "        buttonEl.style.display =\n",
              "          google.colab.kernel.accessAllowed ? 'block' : 'none';\n",
              "\n",
              "        async function convertToInteractive(key) {\n",
              "          const element = document.querySelector('#df-5312c6f0-1569-4fc5-9d56-15aa444d0fee');\n",
              "          const dataTable =\n",
              "            await google.colab.kernel.invokeFunction('convertToInteractive',\n",
              "                                                     [key], {});\n",
              "          if (!dataTable) return;\n",
              "\n",
              "          const docLinkHtml = 'Like what you see? Visit the ' +\n",
              "            '<a target=\"_blank\" href=https://colab.research.google.com/notebooks/data_table.ipynb>data table notebook</a>'\n",
              "            + ' to learn more about interactive tables.';\n",
              "          element.innerHTML = '';\n",
              "          dataTable['output_type'] = 'display_data';\n",
              "          await google.colab.output.renderOutput(dataTable, element);\n",
              "          const docLink = document.createElement('div');\n",
              "          docLink.innerHTML = docLinkHtml;\n",
              "          element.appendChild(docLink);\n",
              "        }\n",
              "      </script>\n",
              "    </div>\n",
              "  </div>\n",
              "  "
            ]
          },
          "metadata": {},
          "execution_count": 3
        }
      ]
    },
    {
      "cell_type": "code",
      "source": [
        "df.replace({\"ham\":0 , \"spam\":1} , inplace = True)"
      ],
      "metadata": {
        "id": "lfbGHLVonJxr"
      },
      "execution_count": null,
      "outputs": []
    },
    {
      "cell_type": "code",
      "source": [
        "Y = df.v1.tolist()"
      ],
      "metadata": {
        "id": "TRBsfUbDnMfo"
      },
      "execution_count": null,
      "outputs": []
    },
    {
      "cell_type": "code",
      "source": [
        "X = df.v2.tolist()"
      ],
      "metadata": {
        "id": "sKc_dbFknO_0"
      },
      "execution_count": null,
      "outputs": []
    },
    {
      "cell_type": "code",
      "source": [
        "len(X)"
      ],
      "metadata": {
        "colab": {
          "base_uri": "https://localhost:8080/"
        },
        "id": "ZUOHmzDwnQxM",
        "outputId": "16fa7b44-5796-4a4a-ced3-22a67eefd98c"
      },
      "execution_count": null,
      "outputs": [
        {
          "output_type": "execute_result",
          "data": {
            "text/plain": [
              "5572"
            ]
          },
          "metadata": {},
          "execution_count": 7
        }
      ]
    },
    {
      "cell_type": "code",
      "source": [
        "df.head()"
      ],
      "metadata": {
        "colab": {
          "base_uri": "https://localhost:8080/",
          "height": 206
        },
        "id": "NHKkeBRCnSpJ",
        "outputId": "5bb56657-1c6c-4e63-ad22-a389ac75bdf3"
      },
      "execution_count": null,
      "outputs": [
        {
          "output_type": "execute_result",
          "data": {
            "text/plain": [
              "   v1                                                 v2 Unnamed: 2  \\\n",
              "0   0  Go until jurong point, crazy.. Available only ...        NaN   \n",
              "1   0                      Ok lar... Joking wif u oni...        NaN   \n",
              "2   1  Free entry in 2 a wkly comp to win FA Cup fina...        NaN   \n",
              "3   0  U dun say so early hor... U c already then say...        NaN   \n",
              "4   0  Nah I don't think he goes to usf, he lives aro...        NaN   \n",
              "\n",
              "  Unnamed: 3 Unnamed: 4  \n",
              "0        NaN        NaN  \n",
              "1        NaN        NaN  \n",
              "2        NaN        NaN  \n",
              "3        NaN        NaN  \n",
              "4        NaN        NaN  "
            ],
            "text/html": [
              "\n",
              "  <div id=\"df-aeb70d8a-8bd0-49c6-b110-3fdf37d1662a\">\n",
              "    <div class=\"colab-df-container\">\n",
              "      <div>\n",
              "<style scoped>\n",
              "    .dataframe tbody tr th:only-of-type {\n",
              "        vertical-align: middle;\n",
              "    }\n",
              "\n",
              "    .dataframe tbody tr th {\n",
              "        vertical-align: top;\n",
              "    }\n",
              "\n",
              "    .dataframe thead th {\n",
              "        text-align: right;\n",
              "    }\n",
              "</style>\n",
              "<table border=\"1\" class=\"dataframe\">\n",
              "  <thead>\n",
              "    <tr style=\"text-align: right;\">\n",
              "      <th></th>\n",
              "      <th>v1</th>\n",
              "      <th>v2</th>\n",
              "      <th>Unnamed: 2</th>\n",
              "      <th>Unnamed: 3</th>\n",
              "      <th>Unnamed: 4</th>\n",
              "    </tr>\n",
              "  </thead>\n",
              "  <tbody>\n",
              "    <tr>\n",
              "      <th>0</th>\n",
              "      <td>0</td>\n",
              "      <td>Go until jurong point, crazy.. Available only ...</td>\n",
              "      <td>NaN</td>\n",
              "      <td>NaN</td>\n",
              "      <td>NaN</td>\n",
              "    </tr>\n",
              "    <tr>\n",
              "      <th>1</th>\n",
              "      <td>0</td>\n",
              "      <td>Ok lar... Joking wif u oni...</td>\n",
              "      <td>NaN</td>\n",
              "      <td>NaN</td>\n",
              "      <td>NaN</td>\n",
              "    </tr>\n",
              "    <tr>\n",
              "      <th>2</th>\n",
              "      <td>1</td>\n",
              "      <td>Free entry in 2 a wkly comp to win FA Cup fina...</td>\n",
              "      <td>NaN</td>\n",
              "      <td>NaN</td>\n",
              "      <td>NaN</td>\n",
              "    </tr>\n",
              "    <tr>\n",
              "      <th>3</th>\n",
              "      <td>0</td>\n",
              "      <td>U dun say so early hor... U c already then say...</td>\n",
              "      <td>NaN</td>\n",
              "      <td>NaN</td>\n",
              "      <td>NaN</td>\n",
              "    </tr>\n",
              "    <tr>\n",
              "      <th>4</th>\n",
              "      <td>0</td>\n",
              "      <td>Nah I don't think he goes to usf, he lives aro...</td>\n",
              "      <td>NaN</td>\n",
              "      <td>NaN</td>\n",
              "      <td>NaN</td>\n",
              "    </tr>\n",
              "  </tbody>\n",
              "</table>\n",
              "</div>\n",
              "      <button class=\"colab-df-convert\" onclick=\"convertToInteractive('df-aeb70d8a-8bd0-49c6-b110-3fdf37d1662a')\"\n",
              "              title=\"Convert this dataframe to an interactive table.\"\n",
              "              style=\"display:none;\">\n",
              "        \n",
              "  <svg xmlns=\"http://www.w3.org/2000/svg\" height=\"24px\"viewBox=\"0 0 24 24\"\n",
              "       width=\"24px\">\n",
              "    <path d=\"M0 0h24v24H0V0z\" fill=\"none\"/>\n",
              "    <path d=\"M18.56 5.44l.94 2.06.94-2.06 2.06-.94-2.06-.94-.94-2.06-.94 2.06-2.06.94zm-11 1L8.5 8.5l.94-2.06 2.06-.94-2.06-.94L8.5 2.5l-.94 2.06-2.06.94zm10 10l.94 2.06.94-2.06 2.06-.94-2.06-.94-.94-2.06-.94 2.06-2.06.94z\"/><path d=\"M17.41 7.96l-1.37-1.37c-.4-.4-.92-.59-1.43-.59-.52 0-1.04.2-1.43.59L10.3 9.45l-7.72 7.72c-.78.78-.78 2.05 0 2.83L4 21.41c.39.39.9.59 1.41.59.51 0 1.02-.2 1.41-.59l7.78-7.78 2.81-2.81c.8-.78.8-2.07 0-2.86zM5.41 20L4 18.59l7.72-7.72 1.47 1.35L5.41 20z\"/>\n",
              "  </svg>\n",
              "      </button>\n",
              "      \n",
              "  <style>\n",
              "    .colab-df-container {\n",
              "      display:flex;\n",
              "      flex-wrap:wrap;\n",
              "      gap: 12px;\n",
              "    }\n",
              "\n",
              "    .colab-df-convert {\n",
              "      background-color: #E8F0FE;\n",
              "      border: none;\n",
              "      border-radius: 50%;\n",
              "      cursor: pointer;\n",
              "      display: none;\n",
              "      fill: #1967D2;\n",
              "      height: 32px;\n",
              "      padding: 0 0 0 0;\n",
              "      width: 32px;\n",
              "    }\n",
              "\n",
              "    .colab-df-convert:hover {\n",
              "      background-color: #E2EBFA;\n",
              "      box-shadow: 0px 1px 2px rgba(60, 64, 67, 0.3), 0px 1px 3px 1px rgba(60, 64, 67, 0.15);\n",
              "      fill: #174EA6;\n",
              "    }\n",
              "\n",
              "    [theme=dark] .colab-df-convert {\n",
              "      background-color: #3B4455;\n",
              "      fill: #D2E3FC;\n",
              "    }\n",
              "\n",
              "    [theme=dark] .colab-df-convert:hover {\n",
              "      background-color: #434B5C;\n",
              "      box-shadow: 0px 1px 3px 1px rgba(0, 0, 0, 0.15);\n",
              "      filter: drop-shadow(0px 1px 2px rgba(0, 0, 0, 0.3));\n",
              "      fill: #FFFFFF;\n",
              "    }\n",
              "  </style>\n",
              "\n",
              "      <script>\n",
              "        const buttonEl =\n",
              "          document.querySelector('#df-aeb70d8a-8bd0-49c6-b110-3fdf37d1662a button.colab-df-convert');\n",
              "        buttonEl.style.display =\n",
              "          google.colab.kernel.accessAllowed ? 'block' : 'none';\n",
              "\n",
              "        async function convertToInteractive(key) {\n",
              "          const element = document.querySelector('#df-aeb70d8a-8bd0-49c6-b110-3fdf37d1662a');\n",
              "          const dataTable =\n",
              "            await google.colab.kernel.invokeFunction('convertToInteractive',\n",
              "                                                     [key], {});\n",
              "          if (!dataTable) return;\n",
              "\n",
              "          const docLinkHtml = 'Like what you see? Visit the ' +\n",
              "            '<a target=\"_blank\" href=https://colab.research.google.com/notebooks/data_table.ipynb>data table notebook</a>'\n",
              "            + ' to learn more about interactive tables.';\n",
              "          element.innerHTML = '';\n",
              "          dataTable['output_type'] = 'display_data';\n",
              "          await google.colab.output.renderOutput(dataTable, element);\n",
              "          const docLink = document.createElement('div');\n",
              "          docLink.innerHTML = docLinkHtml;\n",
              "          element.appendChild(docLink);\n",
              "        }\n",
              "      </script>\n",
              "    </div>\n",
              "  </div>\n",
              "  "
            ]
          },
          "metadata": {},
          "execution_count": 8
        }
      ]
    },
    {
      "cell_type": "code",
      "source": [
        "tokenizer = Tokenizer(num_words = 100)\n",
        "tokenizer.fit_on_texts(X)\n",
        "word_index = tokenizer.word_index"
      ],
      "metadata": {
        "id": "FYoJwnW0sMt2"
      },
      "execution_count": null,
      "outputs": []
    },
    {
      "cell_type": "code",
      "source": [
        "vocab_size=5572\n",
        "embedding_dim=16\n",
        "max_length=max([len(item.split()) for item in X])\n",
        "trunc_type='post'\n",
        "padding_type='post'\n",
        "oov_tok=\"<oov>\"\n",
        "training_size=2000"
      ],
      "metadata": {
        "id": "y47PeB17MUIi"
      },
      "execution_count": null,
      "outputs": []
    },
    {
      "cell_type": "code",
      "source": [
        "max([len(item.split()) for item in X])"
      ],
      "metadata": {
        "colab": {
          "base_uri": "https://localhost:8080/"
        },
        "id": "j8Xg0jjWMZdL",
        "outputId": "4751120f-c8e5-42ba-f875-62daa7c3c720"
      },
      "execution_count": null,
      "outputs": [
        {
          "output_type": "execute_result",
          "data": {
            "text/plain": [
              "171"
            ]
          },
          "metadata": {},
          "execution_count": 14
        }
      ]
    },
    {
      "cell_type": "code",
      "source": [
        "train_x = X[0:training_size]\n",
        "test_x = X[training_size:]\n",
        "train_y = Y[0:training_size]\n",
        "test_y = Y[training_size:]"
      ],
      "metadata": {
        "id": "652bY31MNF5S"
      },
      "execution_count": null,
      "outputs": []
    },
    {
      "cell_type": "code",
      "source": [
        "tokenizer=Tokenizer(num_words=vocab_size, oov_token=oov_tok)\n",
        "tokenizer.fit_on_texts(train_x)\n",
        "\n",
        "word_index=tokenizer.word_index\n",
        "\n",
        "training_sequences=tokenizer.texts_to_sequences(train_x)\n",
        "training_padded=pad_sequences(training_sequences, maxlen=max_length, padding=padding_type, truncating=trunc_type)\n",
        "\n",
        "testing_sequences=tokenizer.texts_to_sequences(test_x)\n",
        "testing_padded=pad_sequences(testing_sequences, maxlen=max_length,padding=padding_type, truncating=trunc_type )\n"
      ],
      "metadata": {
        "id": "A1HyOv_DvErs"
      },
      "execution_count": null,
      "outputs": []
    },
    {
      "cell_type": "code",
      "source": [
        "training_padded=np.array(training_padded)\n",
        "training_labels=np.array(train_y)\n",
        "testing_padded=np.array(testing_padded)\n",
        "testing_labels=np.array(test_y)\n"
      ],
      "metadata": {
        "id": "EbrY1N1svEgv"
      },
      "execution_count": null,
      "outputs": []
    },
    {
      "cell_type": "code",
      "execution_count": null,
      "metadata": {
        "id": "FufaT4vlkiDE"
      },
      "outputs": [],
      "source": [
        "model=tf.keras.Sequential([\n",
        "    tf.keras.layers.Embedding(vocab_size, embedding_dim, input_length=max_length),\n",
        "    tf.keras.layers.GlobalAveragePooling1D(),\n",
        "    tf.keras.layers.Dense(24, activation='relu'),\n",
        "    tf.keras.layers.Dense(1, activation='sigmoid')\n",
        "])\n",
        "model.compile(loss='binary_crossentropy', optimizer='adam', metrics=['accuracy'])\n"
      ]
    },
    {
      "cell_type": "code",
      "source": [
        "model.summary()"
      ],
      "metadata": {
        "id": "oeDybTWFy2IP",
        "colab": {
          "base_uri": "https://localhost:8080/"
        },
        "outputId": "51922b65-3ea6-4191-dec2-1680c7c89973"
      },
      "execution_count": null,
      "outputs": [
        {
          "output_type": "stream",
          "name": "stdout",
          "text": [
            "Model: \"sequential\"\n",
            "_________________________________________________________________\n",
            " Layer (type)                Output Shape              Param #   \n",
            "=================================================================\n",
            " embedding (Embedding)       (None, 171, 16)           89152     \n",
            "                                                                 \n",
            " global_average_pooling1d (G  (None, 16)               0         \n",
            " lobalAveragePooling1D)                                          \n",
            "                                                                 \n",
            " dense (Dense)               (None, 24)                408       \n",
            "                                                                 \n",
            " dense_1 (Dense)             (None, 1)                 25        \n",
            "                                                                 \n",
            "=================================================================\n",
            "Total params: 89,585\n",
            "Trainable params: 89,585\n",
            "Non-trainable params: 0\n",
            "_________________________________________________________________\n"
          ]
        }
      ]
    },
    {
      "cell_type": "code",
      "source": [
        "num_epochs=50\n",
        "history=model.fit(training_padded, training_labels, epochs=num_epochs, validation_data=(testing_padded, testing_labels), verbose=2)"
      ],
      "metadata": {
        "colab": {
          "base_uri": "https://localhost:8080/"
        },
        "id": "Qo_q1NWgNbJm",
        "outputId": "cf843f68-0eff-45d6-e5bc-7efe498cd90d"
      },
      "execution_count": null,
      "outputs": [
        {
          "output_type": "stream",
          "name": "stdout",
          "text": [
            "Epoch 1/50\n",
            "63/63 - 2s - loss: 0.6255 - accuracy: 0.8400 - val_loss: 0.5292 - val_accuracy: 0.8693 - 2s/epoch - 28ms/step\n",
            "Epoch 2/50\n",
            "63/63 - 1s - loss: 0.4448 - accuracy: 0.8600 - val_loss: 0.3753 - val_accuracy: 0.8693 - 553ms/epoch - 9ms/step\n",
            "Epoch 3/50\n",
            "63/63 - 1s - loss: 0.3840 - accuracy: 0.8600 - val_loss: 0.3649 - val_accuracy: 0.8693 - 567ms/epoch - 9ms/step\n",
            "Epoch 4/50\n",
            "63/63 - 1s - loss: 0.3761 - accuracy: 0.8600 - val_loss: 0.3579 - val_accuracy: 0.8693 - 556ms/epoch - 9ms/step\n",
            "Epoch 5/50\n",
            "63/63 - 0s - loss: 0.3675 - accuracy: 0.8600 - val_loss: 0.3498 - val_accuracy: 0.8693 - 418ms/epoch - 7ms/step\n",
            "Epoch 6/50\n",
            "63/63 - 1s - loss: 0.3567 - accuracy: 0.8600 - val_loss: 0.3392 - val_accuracy: 0.8693 - 591ms/epoch - 9ms/step\n",
            "Epoch 7/50\n",
            "63/63 - 1s - loss: 0.3424 - accuracy: 0.8600 - val_loss: 0.3244 - val_accuracy: 0.8693 - 576ms/epoch - 9ms/step\n",
            "Epoch 8/50\n",
            "63/63 - 1s - loss: 0.3206 - accuracy: 0.8600 - val_loss: 0.3010 - val_accuracy: 0.8693 - 556ms/epoch - 9ms/step\n",
            "Epoch 9/50\n",
            "63/63 - 1s - loss: 0.2862 - accuracy: 0.8600 - val_loss: 0.2633 - val_accuracy: 0.8693 - 532ms/epoch - 8ms/step\n",
            "Epoch 10/50\n",
            "63/63 - 1s - loss: 0.2337 - accuracy: 0.8765 - val_loss: 0.2131 - val_accuracy: 0.8933 - 559ms/epoch - 9ms/step\n",
            "Epoch 11/50\n",
            "63/63 - 0s - loss: 0.1757 - accuracy: 0.9350 - val_loss: 0.1651 - val_accuracy: 0.9373 - 413ms/epoch - 7ms/step\n",
            "Epoch 12/50\n",
            "63/63 - 0s - loss: 0.1261 - accuracy: 0.9655 - val_loss: 0.1264 - val_accuracy: 0.9633 - 401ms/epoch - 6ms/step\n",
            "Epoch 13/50\n",
            "63/63 - 1s - loss: 0.0920 - accuracy: 0.9795 - val_loss: 0.1040 - val_accuracy: 0.9684 - 556ms/epoch - 9ms/step\n",
            "Epoch 14/50\n",
            "63/63 - 1s - loss: 0.0710 - accuracy: 0.9845 - val_loss: 0.0909 - val_accuracy: 0.9706 - 570ms/epoch - 9ms/step\n",
            "Epoch 15/50\n",
            "63/63 - 1s - loss: 0.0570 - accuracy: 0.9855 - val_loss: 0.0815 - val_accuracy: 0.9740 - 547ms/epoch - 9ms/step\n",
            "Epoch 16/50\n",
            "63/63 - 1s - loss: 0.0482 - accuracy: 0.9885 - val_loss: 0.0739 - val_accuracy: 0.9790 - 552ms/epoch - 9ms/step\n",
            "Epoch 17/50\n",
            "63/63 - 1s - loss: 0.0407 - accuracy: 0.9895 - val_loss: 0.0695 - val_accuracy: 0.9796 - 538ms/epoch - 9ms/step\n",
            "Epoch 18/50\n",
            "63/63 - 0s - loss: 0.0365 - accuracy: 0.9915 - val_loss: 0.0674 - val_accuracy: 0.9790 - 394ms/epoch - 6ms/step\n",
            "Epoch 19/50\n",
            "63/63 - 1s - loss: 0.0320 - accuracy: 0.9915 - val_loss: 0.0672 - val_accuracy: 0.9784 - 557ms/epoch - 9ms/step\n",
            "Epoch 20/50\n",
            "63/63 - 1s - loss: 0.0281 - accuracy: 0.9920 - val_loss: 0.0625 - val_accuracy: 0.9826 - 546ms/epoch - 9ms/step\n",
            "Epoch 21/50\n",
            "63/63 - 0s - loss: 0.0254 - accuracy: 0.9930 - val_loss: 0.0605 - val_accuracy: 0.9812 - 405ms/epoch - 6ms/step\n",
            "Epoch 22/50\n",
            "63/63 - 0s - loss: 0.0239 - accuracy: 0.9925 - val_loss: 0.0605 - val_accuracy: 0.9815 - 382ms/epoch - 6ms/step\n",
            "Epoch 23/50\n",
            "63/63 - 0s - loss: 0.0207 - accuracy: 0.9940 - val_loss: 0.0584 - val_accuracy: 0.9835 - 414ms/epoch - 7ms/step\n",
            "Epoch 24/50\n",
            "63/63 - 1s - loss: 0.0188 - accuracy: 0.9945 - val_loss: 0.0602 - val_accuracy: 0.9812 - 531ms/epoch - 8ms/step\n",
            "Epoch 25/50\n",
            "63/63 - 1s - loss: 0.0174 - accuracy: 0.9960 - val_loss: 0.0596 - val_accuracy: 0.9818 - 539ms/epoch - 9ms/step\n",
            "Epoch 26/50\n",
            "63/63 - 1s - loss: 0.0153 - accuracy: 0.9955 - val_loss: 0.0631 - val_accuracy: 0.9807 - 524ms/epoch - 8ms/step\n",
            "Epoch 27/50\n",
            "63/63 - 1s - loss: 0.0147 - accuracy: 0.9955 - val_loss: 0.0565 - val_accuracy: 0.9835 - 542ms/epoch - 9ms/step\n",
            "Epoch 28/50\n",
            "63/63 - 0s - loss: 0.0132 - accuracy: 0.9960 - val_loss: 0.0558 - val_accuracy: 0.9838 - 420ms/epoch - 7ms/step\n",
            "Epoch 29/50\n",
            "63/63 - 1s - loss: 0.0120 - accuracy: 0.9955 - val_loss: 0.0555 - val_accuracy: 0.9835 - 548ms/epoch - 9ms/step\n",
            "Epoch 30/50\n",
            "63/63 - 1s - loss: 0.0114 - accuracy: 0.9960 - val_loss: 0.0570 - val_accuracy: 0.9832 - 561ms/epoch - 9ms/step\n",
            "Epoch 31/50\n",
            "63/63 - 0s - loss: 0.0102 - accuracy: 0.9975 - val_loss: 0.0571 - val_accuracy: 0.9832 - 413ms/epoch - 7ms/step\n",
            "Epoch 32/50\n",
            "63/63 - 1s - loss: 0.0094 - accuracy: 0.9975 - val_loss: 0.0605 - val_accuracy: 0.9824 - 544ms/epoch - 9ms/step\n",
            "Epoch 33/50\n",
            "63/63 - 0s - loss: 0.0090 - accuracy: 0.9980 - val_loss: 0.0556 - val_accuracy: 0.9835 - 403ms/epoch - 6ms/step\n",
            "Epoch 34/50\n",
            "63/63 - 0s - loss: 0.0079 - accuracy: 0.9975 - val_loss: 0.0610 - val_accuracy: 0.9824 - 399ms/epoch - 6ms/step\n",
            "Epoch 35/50\n",
            "63/63 - 0s - loss: 0.0074 - accuracy: 0.9980 - val_loss: 0.0605 - val_accuracy: 0.9826 - 429ms/epoch - 7ms/step\n",
            "Epoch 36/50\n",
            "63/63 - 0s - loss: 0.0071 - accuracy: 0.9975 - val_loss: 0.0572 - val_accuracy: 0.9835 - 445ms/epoch - 7ms/step\n",
            "Epoch 37/50\n",
            "63/63 - 1s - loss: 0.0065 - accuracy: 0.9980 - val_loss: 0.0573 - val_accuracy: 0.9835 - 548ms/epoch - 9ms/step\n",
            "Epoch 38/50\n",
            "63/63 - 1s - loss: 0.0058 - accuracy: 0.9990 - val_loss: 0.0619 - val_accuracy: 0.9829 - 548ms/epoch - 9ms/step\n",
            "Epoch 39/50\n",
            "63/63 - 1s - loss: 0.0056 - accuracy: 0.9985 - val_loss: 0.0571 - val_accuracy: 0.9838 - 517ms/epoch - 8ms/step\n",
            "Epoch 40/50\n",
            "63/63 - 0s - loss: 0.0048 - accuracy: 1.0000 - val_loss: 0.0641 - val_accuracy: 0.9824 - 419ms/epoch - 7ms/step\n",
            "Epoch 41/50\n",
            "63/63 - 0s - loss: 0.0049 - accuracy: 0.9990 - val_loss: 0.0584 - val_accuracy: 0.9838 - 401ms/epoch - 6ms/step\n",
            "Epoch 42/50\n",
            "63/63 - 1s - loss: 0.0045 - accuracy: 1.0000 - val_loss: 0.0627 - val_accuracy: 0.9829 - 543ms/epoch - 9ms/step\n",
            "Epoch 43/50\n",
            "63/63 - 1s - loss: 0.0042 - accuracy: 1.0000 - val_loss: 0.0601 - val_accuracy: 0.9835 - 547ms/epoch - 9ms/step\n",
            "Epoch 44/50\n",
            "63/63 - 1s - loss: 0.0040 - accuracy: 0.9995 - val_loss: 0.0592 - val_accuracy: 0.9838 - 555ms/epoch - 9ms/step\n",
            "Epoch 45/50\n",
            "63/63 - 1s - loss: 0.0037 - accuracy: 1.0000 - val_loss: 0.0628 - val_accuracy: 0.9829 - 1s/epoch - 18ms/step\n",
            "Epoch 46/50\n",
            "63/63 - 1s - loss: 0.0037 - accuracy: 1.0000 - val_loss: 0.0617 - val_accuracy: 0.9832 - 750ms/epoch - 12ms/step\n",
            "Epoch 47/50\n",
            "63/63 - 1s - loss: 0.0033 - accuracy: 0.9995 - val_loss: 0.0692 - val_accuracy: 0.9818 - 722ms/epoch - 11ms/step\n",
            "Epoch 48/50\n",
            "63/63 - 1s - loss: 0.0032 - accuracy: 1.0000 - val_loss: 0.0671 - val_accuracy: 0.9824 - 830ms/epoch - 13ms/step\n",
            "Epoch 49/50\n",
            "63/63 - 1s - loss: 0.0030 - accuracy: 1.0000 - val_loss: 0.0646 - val_accuracy: 0.9826 - 789ms/epoch - 13ms/step\n",
            "Epoch 50/50\n",
            "63/63 - 1s - loss: 0.0028 - accuracy: 1.0000 - val_loss: 0.0634 - val_accuracy: 0.9832 - 616ms/epoch - 10ms/step\n"
          ]
        }
      ]
    },
    {
      "cell_type": "code",
      "source": [],
      "metadata": {
        "id": "-bopiRJhNrIn"
      },
      "execution_count": null,
      "outputs": []
    }
  ]
}
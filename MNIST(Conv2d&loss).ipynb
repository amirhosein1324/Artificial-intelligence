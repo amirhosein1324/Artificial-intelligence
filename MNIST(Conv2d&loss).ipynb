{
  "nbformat": 4,
  "nbformat_minor": 0,
  "metadata": {
    "colab": {
      "provenance": [],
      "gpuType": "T4"
    },
    "kernelspec": {
      "name": "python3",
      "display_name": "Python 3"
    },
    "language_info": {
      "name": "python"
    },
    "accelerator": "GPU"
  },
  "cells": [
    {
      "cell_type": "code",
      "execution_count": null,
      "metadata": {
        "id": "whVSwAKGwAhh"
      },
      "outputs": [],
      "source": [
        "import torch\n",
        "import torchvision\n",
        "import matplotlib.pyplot as plt\n",
        "from torch.utils.data import Dataset,DataLoader"
      ]
    },
    {
      "cell_type": "code",
      "source": [
        "train_dataset = torchvision.datasets.MNIST(root=\"./data\", train=True, download=True,\n",
        "                                           transform=torchvision.transforms.ToTensor())\n"
      ],
      "metadata": {
        "id": "t0zI8M09wKze",
        "colab": {
          "base_uri": "https://localhost:8080/"
        },
        "outputId": "4f95e093-1778-42fc-c161-64d235283d00"
      },
      "execution_count": null,
      "outputs": [
        {
          "output_type": "stream",
          "name": "stderr",
          "text": [
            "100%|██████████| 9.91M/9.91M [00:00<00:00, 16.4MB/s]\n",
            "100%|██████████| 28.9k/28.9k [00:00<00:00, 501kB/s]\n",
            "100%|██████████| 1.65M/1.65M [00:00<00:00, 4.67MB/s]\n",
            "100%|██████████| 4.54k/4.54k [00:00<00:00, 10.3MB/s]\n"
          ]
        }
      ]
    },
    {
      "cell_type": "code",
      "source": [
        "train_dataset[0][0].shape\n"
      ],
      "metadata": {
        "colab": {
          "base_uri": "https://localhost:8080/"
        },
        "id": "YJecU2xawpx1",
        "outputId": "a4d03c33-f491-45fb-f26a-1463a510bc72"
      },
      "execution_count": null,
      "outputs": [
        {
          "output_type": "execute_result",
          "data": {
            "text/plain": [
              "torch.Size([1, 28, 28])"
            ]
          },
          "metadata": {},
          "execution_count": 3
        }
      ]
    },
    {
      "cell_type": "code",
      "source": [
        "train_dataset[0][1]\n"
      ],
      "metadata": {
        "colab": {
          "base_uri": "https://localhost:8080/"
        },
        "id": "DcvvpdDGwxWu",
        "outputId": "68e0b0cd-7fb2-4f47-9e5f-1f638a99191e"
      },
      "execution_count": null,
      "outputs": [
        {
          "output_type": "execute_result",
          "data": {
            "text/plain": [
              "5"
            ]
          },
          "metadata": {},
          "execution_count": 4
        }
      ]
    },
    {
      "cell_type": "code",
      "source": [
        "type(train_dataset[0][0])\n"
      ],
      "metadata": {
        "colab": {
          "base_uri": "https://localhost:8080/"
        },
        "id": "142lRZCTw5Bt",
        "outputId": "f512a6ec-a1ce-4a30-f403-e8b0897c5fc5"
      },
      "execution_count": null,
      "outputs": [
        {
          "output_type": "execute_result",
          "data": {
            "text/plain": [
              "torch.Tensor"
            ]
          },
          "metadata": {},
          "execution_count": 5
        }
      ]
    },
    {
      "cell_type": "code",
      "source": [
        "train_dataset = torchvision.datasets.MNIST(root=\"./data\", train=True, download=True,\n",
        "                                           transform=torchvision.transforms.Compose([\n",
        "                                               torchvision.transforms.ToTensor(),\n",
        "                                               torchvision.transforms.Resize((32, 32))\n",
        "                                           ]))\n"
      ],
      "metadata": {
        "id": "RQ5TtpTdw8fV"
      },
      "execution_count": null,
      "outputs": []
    },
    {
      "cell_type": "code",
      "source": [
        "train_dataset[0][0].shape\n"
      ],
      "metadata": {
        "colab": {
          "base_uri": "https://localhost:8080/"
        },
        "id": "vhrySYduxfpF",
        "outputId": "055c95d6-fc7c-4543-ad79-270bbfa36c4b"
      },
      "execution_count": null,
      "outputs": [
        {
          "output_type": "execute_result",
          "data": {
            "text/plain": [
              "torch.Size([1, 32, 32])"
            ]
          },
          "metadata": {},
          "execution_count": 7
        }
      ]
    },
    {
      "cell_type": "code",
      "source": [
        "train_dataset[0][1]"
      ],
      "metadata": {
        "colab": {
          "base_uri": "https://localhost:8080/"
        },
        "id": "LvuS_frPxkX4",
        "outputId": "2ee1d923-c63d-4cd5-e534-8d626713b9c7"
      },
      "execution_count": null,
      "outputs": [
        {
          "output_type": "execute_result",
          "data": {
            "text/plain": [
              "5"
            ]
          },
          "metadata": {},
          "execution_count": 8
        }
      ]
    },
    {
      "cell_type": "code",
      "source": [
        "type(train_dataset[0][0])\n"
      ],
      "metadata": {
        "colab": {
          "base_uri": "https://localhost:8080/"
        },
        "id": "kB0lEWlcxoRM",
        "outputId": "1689b722-d884-420f-9a16-b4a72a50631e"
      },
      "execution_count": null,
      "outputs": [
        {
          "output_type": "execute_result",
          "data": {
            "text/plain": [
              "torch.Tensor"
            ]
          },
          "metadata": {},
          "execution_count": 9
        }
      ]
    },
    {
      "cell_type": "code",
      "source": [
        "plt.imshow(train_dataset[0][0][0], cmap=\"gray\")\n"
      ],
      "metadata": {
        "colab": {
          "base_uri": "https://localhost:8080/",
          "height": 448
        },
        "id": "TuhFDWH-xrAn",
        "outputId": "7ead17d3-4102-4631-b8f2-adea1d267f0a"
      },
      "execution_count": null,
      "outputs": [
        {
          "output_type": "execute_result",
          "data": {
            "text/plain": [
              "<matplotlib.image.AxesImage at 0x7f21392e5fd0>"
            ]
          },
          "metadata": {},
          "execution_count": 10
        },
        {
          "output_type": "display_data",
          "data": {
            "text/plain": [
              "<Figure size 640x480 with 1 Axes>"
            ],
            "image/png": "[encoded data removed]"
          },
          "metadata": {}
        }
      ]
    },
    {
      "cell_type": "code",
      "source": [
        "class Lenet5(torch.nn.Module):\n",
        "  def __init__(self):\n",
        "    super(Lenet5 , self ).__init__()\n",
        "    self.conv1 = torch.nn.Conv2d(in_channels=1 , out_channels=6 , stride=1 , padding=0, kernel_size=5)\n",
        "    self.sub2 = torch.nn.MaxPool2d(kernel_size=2)\n",
        "    self.conv3 = torch.nn.Conv2d(in_channels=6, out_channels=16, stride=1, padding=0, kernel_size=5)\n",
        "    self.sub4 = torch.nn.MaxPool2d(kernel_size=2)\n",
        "    self.fc5 = torch.nn.Linear(400 , 120)\n",
        "    self.fc6 = torch.nn.Linear(120 , 84)\n",
        "    self.out = torch.nn.Linear(84 , 10)\n",
        "  def forward(self , x):\n",
        "    x = self.conv1(x)\n",
        "    x = self.sub2(x)\n",
        "    x = self.conv3(x)\n",
        "    x = self.sub4(x)\n",
        "    x = x.view(x.shape[0] , -1)\n",
        "    # print(view.shape)\n",
        "    x = self.fc5(x)\n",
        "    x = self.fc6(x)\n",
        "    x = self.out(x)\n",
        "    return x\n",
        "\n",
        "device = 'cuda' if torch.cuda.is_available() else 'cpu'\n",
        "print(device)\n",
        "data_loader = DataLoader(train_dataset , batch_size = 64)\n",
        "loss_fn = torch.nn.CrossEntropyLoss()\n",
        "learning_rate = 1e-3\n",
        "model = Lenet5()\n",
        "model = model.to(device=device)\n",
        "optim = torch.optim.Adam(model.parameters() , lr = learning_rate)\n",
        "for epoch in range(10):\n",
        "  losses = []\n",
        "  for data , label in data_loader:\n",
        "    data = data.to(device=device)\n",
        "    label = label.to(device=device)\n",
        "    output = model(data)\n",
        "    loss = loss_fn(output , label)\n",
        "    optim.zero_grad()\n",
        "    loss.backward()\n",
        "    optim.step()\n",
        "    losses.append(loss.item())\n",
        "  print(sum(losses) / len(losses))\n",
        "    # print(output.shape)\n",
        "    # break"
      ],
      "metadata": {
        "id": "1-FpTzheytqV",
        "colab": {
          "base_uri": "https://localhost:8080/"
        },
        "outputId": "1e239436-4081-4897-d130-899e2acaed1a"
      },
      "execution_count": null,
      "outputs": [
        {
          "output_type": "stream",
          "name": "stdout",
          "text": [
            "cuda\n",
            "0.24886983116991374\n",
            "0.09578027176834059\n",
            "0.07520279177458464\n",
            "0.06536090899546664\n",
            "0.05893674364302872\n",
            "0.05444137079199143\n",
            "0.05013918915072452\n",
            "0.04716996376786239\n",
            "0.04450299837293281\n",
            "0.04157713004164672\n"
          ]
        }
      ]
    }
  ]
}
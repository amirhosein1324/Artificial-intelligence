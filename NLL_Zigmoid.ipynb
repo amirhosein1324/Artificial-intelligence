{
  "nbformat": 4,
  "nbformat_minor": 0,
  "metadata": {
    "colab": {
      "provenance": []
    },
    "kernelspec": {
      "name": "python3",
      "display_name": "Python 3"
    },
    "language_info": {
      "name": "python"
    }
  },
  "cells": [
    {
      "cell_type": "code",
      "source": [
        "import numpy as np"
      ],
      "metadata": {
        "id": "enaYQTz5EuWb"
      },
      "execution_count": null,
      "outputs": []
    },
    {
      "cell_type": "code",
      "source": [
        "x = np.array([8 , 11 , 8 , 9 , 8 , 9 , 8 , 10])\n",
        "y = np.array([1 , 1 , 0 , 0 , 0 , 1 , 1 , 0])\n",
        "a = 1.5\n",
        "b = 1.2\n",
        "lr = 0.001\n",
        "epsilon = 1e-3\n",
        "mean = np.mean(x)\n",
        "mean\n",
        "\n",
        "std = np.std(x, ddof=1)\n",
        "std\n",
        "\n",
        "normalized_x = (x - mean) / std\n",
        "normalized_x\n",
        "\n",
        "\n",
        "n = 5\n",
        "K = 0\n",
        "previous_error = 0\n",
        "\n",
        "for epoch in range(10000):\n",
        "  z = a * normalized_x + b\n",
        "  p = 1 / (1 + np.exp(-z))\n",
        "  grad_a = np.sum((p-y) * normalized_x)\n",
        "  grad_b = np.sum(p-y)\n",
        "  a -= lr * grad_a\n",
        "  b -= lr * grad_b\n",
        "  error_formula = -y * (np.log2 (p) ) - (1-y) * (np.log2 (1-p) )\n",
        "  error = np.mean(error_formula)\n",
        "\n",
        "  if abs(previous_error - error) > epsilon:\n",
        "    previous_error = error\n",
        "    K = 0\n",
        "  else:\n",
        "    K += 1\n",
        "  if K == n:\n",
        "    print(f\"after {epoch} epochs\")\n",
        "    print(f\"result a: {a}\")\n",
        "    print(f\"result b: {b}\")\n",
        "    print(f\"error {error}\")\n",
        "    break\n"
      ],
      "metadata": {
        "colab": {
          "base_uri": "https://localhost:8080/"
        },
        "id": "iRkB73G_K05z",
        "outputId": "dc993f5b-5f4c-4c43-bd24-417babdfb24f"
      },
      "execution_count": null,
      "outputs": [
        {
          "output_type": "stream",
          "name": "stdout",
          "text": [
            "after 702 epochs\n",
            "result a: 0.8563070925843044\n",
            "result b: 0.43464632941727716\n",
            "error 1.0658311916597902\n"
          ]
        }
      ]
    },
    {
      "cell_type": "code",
      "source": [],
      "metadata": {
        "id": "TqtBhAjCZeEj"
      },
      "execution_count": null,
      "outputs": []
    }
  ]
}